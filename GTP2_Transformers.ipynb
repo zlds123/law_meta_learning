{
 "cells": [
  {
   "cell_type": "code",
   "execution_count": 3,
   "metadata": {
    "scrolled": true
   },
   "outputs": [
    {
     "name": "stdout",
     "output_type": "stream",
     "text": [
      "Requirement already satisfied: transformers in /Users/zhiyulin/opt/anaconda3/envs/anly580/lib/python3.8/site-packages (4.0.0)\n",
      "Requirement already satisfied: sacremoses in /Users/zhiyulin/opt/anaconda3/envs/anly580/lib/python3.8/site-packages (from transformers) (0.0.43)\n",
      "Requirement already satisfied: regex!=2019.12.17 in /Users/zhiyulin/opt/anaconda3/envs/anly580/lib/python3.8/site-packages (from transformers) (2020.7.14)\n",
      "Requirement already satisfied: numpy in /Users/zhiyulin/opt/anaconda3/envs/anly580/lib/python3.8/site-packages (from transformers) (1.18.5)\n",
      "Requirement already satisfied: tqdm>=4.27 in /Users/zhiyulin/opt/anaconda3/envs/anly580/lib/python3.8/site-packages (from transformers) (4.48.2)\n",
      "Requirement already satisfied: requests in /Users/zhiyulin/opt/anaconda3/envs/anly580/lib/python3.8/site-packages (from transformers) (2.24.0)\n",
      "Requirement already satisfied: tokenizers==0.9.4 in /Users/zhiyulin/opt/anaconda3/envs/anly580/lib/python3.8/site-packages (from transformers) (0.9.4)\n",
      "Requirement already satisfied: filelock in /Users/zhiyulin/opt/anaconda3/envs/anly580/lib/python3.8/site-packages (from transformers) (3.0.12)\n",
      "Requirement already satisfied: packaging in /Users/zhiyulin/opt/anaconda3/envs/anly580/lib/python3.8/site-packages (from transformers) (20.4)\n",
      "Requirement already satisfied: click in /Users/zhiyulin/opt/anaconda3/envs/anly580/lib/python3.8/site-packages (from sacremoses->transformers) (7.1.2)\n",
      "Requirement already satisfied: six in /Users/zhiyulin/opt/anaconda3/envs/anly580/lib/python3.8/site-packages (from sacremoses->transformers) (1.15.0)\n",
      "Requirement already satisfied: joblib in /Users/zhiyulin/opt/anaconda3/envs/anly580/lib/python3.8/site-packages (from sacremoses->transformers) (0.16.0)\n",
      "Requirement already satisfied: certifi>=2017.4.17 in /Users/zhiyulin/opt/anaconda3/envs/anly580/lib/python3.8/site-packages (from requests->transformers) (2020.12.5)\n",
      "Requirement already satisfied: idna<3,>=2.5 in /Users/zhiyulin/opt/anaconda3/envs/anly580/lib/python3.8/site-packages (from requests->transformers) (2.10)\n",
      "Requirement already satisfied: urllib3!=1.25.0,!=1.25.1,<1.26,>=1.21.1 in /Users/zhiyulin/opt/anaconda3/envs/anly580/lib/python3.8/site-packages (from requests->transformers) (1.25.10)\n",
      "Requirement already satisfied: chardet<4,>=3.0.2 in /Users/zhiyulin/opt/anaconda3/envs/anly580/lib/python3.8/site-packages (from requests->transformers) (3.0.4)\n",
      "Requirement already satisfied: pyparsing>=2.0.2 in /Users/zhiyulin/opt/anaconda3/envs/anly580/lib/python3.8/site-packages (from packaging->transformers) (2.4.7)\n",
      "Note: you may need to restart the kernel to use updated packages.\n"
     ]
    }
   ],
   "source": [
    "pip install transformers"
   ]
  },
  {
   "cell_type": "markdown",
   "metadata": {},
   "source": [
    "## GPT2 conversational"
   ]
  },
  {
   "cell_type": "code",
   "execution_count": 2,
   "metadata": {},
   "outputs": [],
   "source": [
    "from transformers import pipeline, Conversation"
   ]
  },
  {
   "cell_type": "code",
   "execution_count": 2,
   "metadata": {},
   "outputs": [],
   "source": [
    "## Tutorial:\n",
    "## https://towardsdatascience.com/conversational-ai-chatbot-with-pretrained-transformers-using-pytorch-55b5e8882fd3"
   ]
  },
  {
   "cell_type": "code",
   "execution_count": 4,
   "metadata": {
    "scrolled": false
   },
   "outputs": [
    {
     "data": {
      "application/vnd.jupyter.widget-view+json": {
       "model_id": "dc2815459e5f4d35b63a9b943d9b1504",
       "version_major": 2,
       "version_minor": 0
      },
      "text/plain": [
       "HBox(children=(FloatProgress(value=0.0, description='Downloading', max=642.0, style=ProgressStyle(description_…"
      ]
     },
     "metadata": {},
     "output_type": "display_data"
    },
    {
     "name": "stdout",
     "output_type": "stream",
     "text": [
      "\n"
     ]
    },
    {
     "data": {
      "application/vnd.jupyter.widget-view+json": {
       "model_id": "b50fcbf6c3eb47579c455fd496051d15",
       "version_major": 2,
       "version_minor": 0
      },
      "text/plain": [
       "HBox(children=(FloatProgress(value=0.0, description='Downloading', max=862955157.0, style=ProgressStyle(descri…"
      ]
     },
     "metadata": {},
     "output_type": "display_data"
    },
    {
     "name": "stdout",
     "output_type": "stream",
     "text": [
      "\n"
     ]
    },
    {
     "name": "stderr",
     "output_type": "stream",
     "text": [
      "Some weights of GPT2Model were not initialized from the model checkpoint at microsoft/DialoGPT-medium and are newly initialized: ['transformer.h.0.attn.masked_bias', 'transformer.h.1.attn.masked_bias', 'transformer.h.2.attn.masked_bias', 'transformer.h.3.attn.masked_bias', 'transformer.h.4.attn.masked_bias', 'transformer.h.5.attn.masked_bias', 'transformer.h.6.attn.masked_bias', 'transformer.h.7.attn.masked_bias', 'transformer.h.8.attn.masked_bias', 'transformer.h.9.attn.masked_bias', 'transformer.h.10.attn.masked_bias', 'transformer.h.11.attn.masked_bias', 'transformer.h.12.attn.masked_bias', 'transformer.h.13.attn.masked_bias', 'transformer.h.14.attn.masked_bias', 'transformer.h.15.attn.masked_bias', 'transformer.h.16.attn.masked_bias', 'transformer.h.17.attn.masked_bias', 'transformer.h.18.attn.masked_bias', 'transformer.h.19.attn.masked_bias', 'transformer.h.20.attn.masked_bias', 'transformer.h.21.attn.masked_bias', 'transformer.h.22.attn.masked_bias', 'transformer.h.23.attn.masked_bias']\n",
      "You should probably TRAIN this model on a down-stream task to be able to use it for predictions and inference.\n"
     ]
    },
    {
     "data": {
      "application/vnd.jupyter.widget-view+json": {
       "model_id": "dde731e1f87c4ba882e93984d85060cc",
       "version_major": 2,
       "version_minor": 0
      },
      "text/plain": [
       "HBox(children=(FloatProgress(value=0.0, description='Downloading', max=1042301.0, style=ProgressStyle(descript…"
      ]
     },
     "metadata": {},
     "output_type": "display_data"
    },
    {
     "name": "stdout",
     "output_type": "stream",
     "text": [
      "\n"
     ]
    },
    {
     "data": {
      "application/vnd.jupyter.widget-view+json": {
       "model_id": "e9d6f67c28db446d94681ab6c56eb6d2",
       "version_major": 2,
       "version_minor": 0
      },
      "text/plain": [
       "HBox(children=(FloatProgress(value=0.0, description='Downloading', max=456318.0, style=ProgressStyle(descripti…"
      ]
     },
     "metadata": {},
     "output_type": "display_data"
    },
    {
     "name": "stdout",
     "output_type": "stream",
     "text": [
      "\n"
     ]
    },
    {
     "data": {
      "application/vnd.jupyter.widget-view+json": {
       "model_id": "3989b584bbe44d968c53e90ec3104356",
       "version_major": 2,
       "version_minor": 0
      },
      "text/plain": [
       "HBox(children=(FloatProgress(value=0.0, description='Downloading', max=26.0, style=ProgressStyle(description_w…"
      ]
     },
     "metadata": {},
     "output_type": "display_data"
    },
    {
     "name": "stdout",
     "output_type": "stream",
     "text": [
      "\n"
     ]
    }
   ],
   "source": [
    "conversational_pipeline = pipeline(\"conversational\")"
   ]
  },
  {
   "cell_type": "code",
   "execution_count": 27,
   "metadata": {
    "scrolled": true
   },
   "outputs": [
    {
     "data": {
      "text/html": [
       "<div>\n",
       "<style scoped>\n",
       "    .dataframe tbody tr th:only-of-type {\n",
       "        vertical-align: middle;\n",
       "    }\n",
       "\n",
       "    .dataframe tbody tr th {\n",
       "        vertical-align: top;\n",
       "    }\n",
       "\n",
       "    .dataframe thead th {\n",
       "        text-align: right;\n",
       "    }\n",
       "</style>\n",
       "<table border=\"1\" class=\"dataframe\">\n",
       "  <thead>\n",
       "    <tr style=\"text-align: right;\">\n",
       "      <th></th>\n",
       "      <th>start_x</th>\n",
       "      <th>stop_x</th>\n",
       "      <th>start_y</th>\n",
       "      <th>stop_y</th>\n",
       "      <th>speaker_name_x</th>\n",
       "      <th>speaker_name_y</th>\n",
       "      <th>speaker_roles_1_appointing_president_y</th>\n",
       "      <th>speaker_roles_1_role_title_y</th>\n",
       "      <th>speaker_roles_1_date_start_y</th>\n",
       "      <th>speaker_roles_1_date_end_y</th>\n",
       "      <th>agent_state</th>\n",
       "      <th>judge_action</th>\n",
       "      <th>action_duration</th>\n",
       "      <th>agent_duration</th>\n",
       "      <th>judge_action_cleaned</th>\n",
       "      <th>agent_state_cleaned</th>\n",
       "    </tr>\n",
       "  </thead>\n",
       "  <tbody>\n",
       "    <tr>\n",
       "      <th>0</th>\n",
       "      <td>186.705</td>\n",
       "      <td>215.73</td>\n",
       "      <td>215.73</td>\n",
       "      <td>240.995</td>\n",
       "      <td>Michael A. Carvin</td>\n",
       "      <td>John G. Roberts, Jr.</td>\n",
       "      <td>George W. Bush</td>\n",
       "      <td>Chief Justice of the United States</td>\n",
       "      <td>1.127970e+09</td>\n",
       "      <td>0.0</td>\n",
       "      <td>Not entirely, Mr. Chief Justice, for this reas...</td>\n",
       "      <td>Now you -- you talk about the concern being th...</td>\n",
       "      <td>29.025</td>\n",
       "      <td>25.265</td>\n",
       "      <td>['talk', 'concern', 'analysis', 'would', 'driv...</td>\n",
       "      <td>['entirely', 'mr', 'chief', 'justice', 'reason...</td>\n",
       "    </tr>\n",
       "    <tr>\n",
       "      <th>1</th>\n",
       "      <td>357.335</td>\n",
       "      <td>438.79</td>\n",
       "      <td>438.79</td>\n",
       "      <td>445.930</td>\n",
       "      <td>Michael A. Carvin</td>\n",
       "      <td>Clarence Thomas</td>\n",
       "      <td>George H. W. Bush</td>\n",
       "      <td>Associate Justice of the Supreme Court of the ...</td>\n",
       "      <td>6.881940e+08</td>\n",
       "      <td>0.0</td>\n",
       "      <td>Well, Justice Thomas, I think it speaks precis...</td>\n",
       "      <td>So is there a causation standard implicit in y...</td>\n",
       "      <td>81.455</td>\n",
       "      <td>7.140</td>\n",
       "      <td>['causation', 'standard', 'implicit', 'neutral...</td>\n",
       "      <td>['well', 'justice', 'thomas', 'think', 'speak'...</td>\n",
       "    </tr>\n",
       "    <tr>\n",
       "      <th>2</th>\n",
       "      <td>445.930</td>\n",
       "      <td>488.78</td>\n",
       "      <td>488.78</td>\n",
       "      <td>507.930</td>\n",
       "      <td>Michael A. Carvin</td>\n",
       "      <td>Clarence Thomas</td>\n",
       "      <td>George H. W. Bush</td>\n",
       "      <td>Associate Justice of the Supreme Court of the ...</td>\n",
       "      <td>6.881940e+08</td>\n",
       "      <td>0.0</td>\n",
       "      <td>Only in the sense that result, obviously, conn...</td>\n",
       "      <td>And how much less opportunity? The Ninth Circu...</td>\n",
       "      <td>42.850</td>\n",
       "      <td>19.150</td>\n",
       "      <td>['much', 'less', 'opportunity', 'ninth', 'circ...</td>\n",
       "      <td>['sense', 'result', 'obviously', 'connote', 'c...</td>\n",
       "    </tr>\n",
       "    <tr>\n",
       "      <th>3</th>\n",
       "      <td>507.930</td>\n",
       "      <td>541.76</td>\n",
       "      <td>541.76</td>\n",
       "      <td>544.760</td>\n",
       "      <td>Michael A. Carvin</td>\n",
       "      <td>Sonia Sotomayor</td>\n",
       "      <td>NaN</td>\n",
       "      <td>Associate Justice of the Supreme Court of the ...</td>\n",
       "      <td>1.249708e+09</td>\n",
       "      <td>0.0</td>\n",
       "      <td>Well, again, it depends what you're talking ab...</td>\n",
       "      <td>Could I go back to the two categories?        ...</td>\n",
       "      <td>33.830</td>\n",
       "      <td>3.000</td>\n",
       "      <td>['could', 'go', 'back', 'two', 'category']</td>\n",
       "      <td>['well', 'depend', 'talk', 'justice', 'thomas'...</td>\n",
       "    </tr>\n",
       "    <tr>\n",
       "      <th>4</th>\n",
       "      <td>497.800</td>\n",
       "      <td>541.76</td>\n",
       "      <td>541.76</td>\n",
       "      <td>544.760</td>\n",
       "      <td>Lawrence D. Rosenberg</td>\n",
       "      <td>Sonia Sotomayor</td>\n",
       "      <td>NaN</td>\n",
       "      <td>Associate Justice of the Supreme Court of the ...</td>\n",
       "      <td>1.249708e+09</td>\n",
       "      <td>0.0</td>\n",
       "      <td>Yeah. I mean, I think there may be an argument...</td>\n",
       "      <td>Could I go back to the two categories?        ...</td>\n",
       "      <td>43.960</td>\n",
       "      <td>3.000</td>\n",
       "      <td>['could', 'go', 'back', 'two', 'category']</td>\n",
       "      <td>['yeah', 'mean', 'think', 'may', 'argument', '...</td>\n",
       "    </tr>\n",
       "    <tr>\n",
       "      <th>...</th>\n",
       "      <td>...</td>\n",
       "      <td>...</td>\n",
       "      <td>...</td>\n",
       "      <td>...</td>\n",
       "      <td>...</td>\n",
       "      <td>...</td>\n",
       "      <td>...</td>\n",
       "      <td>...</td>\n",
       "      <td>...</td>\n",
       "      <td>...</td>\n",
       "      <td>...</td>\n",
       "      <td>...</td>\n",
       "      <td>...</td>\n",
       "      <td>...</td>\n",
       "      <td>...</td>\n",
       "      <td>...</td>\n",
       "    </tr>\n",
       "    <tr>\n",
       "      <th>13943</th>\n",
       "      <td>3124.920</td>\n",
       "      <td>3129.88</td>\n",
       "      <td>3129.88</td>\n",
       "      <td>3134.800</td>\n",
       "      <td>Joseph R. Palmore</td>\n",
       "      <td>Stephen G. Breyer</td>\n",
       "      <td>Bill Clinton</td>\n",
       "      <td>Associate Justice of the Supreme Court of the ...</td>\n",
       "      <td>7.758900e+08</td>\n",
       "      <td>0.0</td>\n",
       "      <td>Because there was presumed under the no furthe...</td>\n",
       "      <td>It means sometimes you presume that there is i...</td>\n",
       "      <td>4.960</td>\n",
       "      <td>4.920</td>\n",
       "      <td>['mean', 'sometimes', 'presume', 'injury', 'tr...</td>\n",
       "      <td>['presume', 'inquiry', 'rule', 'presumed', 'in...</td>\n",
       "    </tr>\n",
       "    <tr>\n",
       "      <th>13944</th>\n",
       "      <td>3172.360</td>\n",
       "      <td>3204.76</td>\n",
       "      <td>3204.76</td>\n",
       "      <td>3208.440</td>\n",
       "      <td>Joseph R. Palmore</td>\n",
       "      <td>Brett M. Kavanaugh</td>\n",
       "      <td>Donald J. Trump</td>\n",
       "      <td>Associate Justice of the Supreme Court of the ...</td>\n",
       "      <td>1.538802e+09</td>\n",
       "      <td>0.0</td>\n",
       "      <td>-- and that that interest was fully protected,...</td>\n",
       "      <td>Can I go back to the particulars of your theor...</td>\n",
       "      <td>32.400</td>\n",
       "      <td>3.680</td>\n",
       "      <td>['go', 'back', 'particular', 'theory', 'would'...</td>\n",
       "      <td>['interest', 'fully', 'protect', 'plaintiff', ...</td>\n",
       "    </tr>\n",
       "    <tr>\n",
       "      <th>13945</th>\n",
       "      <td>3410.960</td>\n",
       "      <td>3433.16</td>\n",
       "      <td>3433.16</td>\n",
       "      <td>3442.400</td>\n",
       "      <td>Joseph R. Palmore</td>\n",
       "      <td>Brett M. Kavanaugh</td>\n",
       "      <td>Donald J. Trump</td>\n",
       "      <td>Associate Justice of the Supreme Court of the ...</td>\n",
       "      <td>1.538802e+09</td>\n",
       "      <td>0.0</td>\n",
       "      <td>Yeah. Well, we articulated that in our brief a...</td>\n",
       "      <td>Wouldn't -- wouldn't that theory, taken to its...</td>\n",
       "      <td>22.200</td>\n",
       "      <td>9.240</td>\n",
       "      <td>['theory', 'take', 'logical', 'conclusion', 'm...</td>\n",
       "      <td>['yeah', 'well', 'articulate', 'brief', 'court...</td>\n",
       "    </tr>\n",
       "    <tr>\n",
       "      <th>13946</th>\n",
       "      <td>3442.400</td>\n",
       "      <td>3446.84</td>\n",
       "      <td>3446.84</td>\n",
       "      <td>3451.320</td>\n",
       "      <td>Joseph R. Palmore</td>\n",
       "      <td>Brett M. Kavanaugh</td>\n",
       "      <td>Donald J. Trump</td>\n",
       "      <td>Associate Justice of the Supreme Court of the ...</td>\n",
       "      <td>1.538802e+09</td>\n",
       "      <td>0.0</td>\n",
       "      <td>No, Your Honor, because the PBGC guarantees be...</td>\n",
       "      <td>Anyone whose benefits are under that limit, th...</td>\n",
       "      <td>4.440</td>\n",
       "      <td>4.480</td>\n",
       "      <td>['anyone', 'whose', 'benefit', 'limit', 'never...</td>\n",
       "      <td>['honor', 'pbgc', 'guarantee', 'benefit', 'cer...</td>\n",
       "    </tr>\n",
       "    <tr>\n",
       "      <th>13947</th>\n",
       "      <td>3537.760</td>\n",
       "      <td>3573.48</td>\n",
       "      <td>3573.48</td>\n",
       "      <td>3577.480</td>\n",
       "      <td>Joseph R. Palmore</td>\n",
       "      <td>John G. Roberts, Jr.</td>\n",
       "      <td>George W. Bush</td>\n",
       "      <td>Chief Justice of the United States</td>\n",
       "      <td>1.127970e+09</td>\n",
       "      <td>0.0</td>\n",
       "      <td>The Department of Labor has the legal authorit...</td>\n",
       "      <td>Thank you, counsel. Three minutes, Mr. Stris. ...</td>\n",
       "      <td>35.720</td>\n",
       "      <td>4.000</td>\n",
       "      <td>['thank', 'counsel', 'three', 'minute', 'mr', ...</td>\n",
       "      <td>['department', 'labor', 'legal', 'authority', ...</td>\n",
       "    </tr>\n",
       "  </tbody>\n",
       "</table>\n",
       "<p>13948 rows × 16 columns</p>\n",
       "</div>"
      ],
      "text/plain": [
       "        start_x   stop_x  start_y    stop_y         speaker_name_x  \\\n",
       "0       186.705   215.73   215.73   240.995      Michael A. Carvin   \n",
       "1       357.335   438.79   438.79   445.930      Michael A. Carvin   \n",
       "2       445.930   488.78   488.78   507.930      Michael A. Carvin   \n",
       "3       507.930   541.76   541.76   544.760      Michael A. Carvin   \n",
       "4       497.800   541.76   541.76   544.760  Lawrence D. Rosenberg   \n",
       "...         ...      ...      ...       ...                    ...   \n",
       "13943  3124.920  3129.88  3129.88  3134.800      Joseph R. Palmore   \n",
       "13944  3172.360  3204.76  3204.76  3208.440      Joseph R. Palmore   \n",
       "13945  3410.960  3433.16  3433.16  3442.400      Joseph R. Palmore   \n",
       "13946  3442.400  3446.84  3446.84  3451.320      Joseph R. Palmore   \n",
       "13947  3537.760  3573.48  3573.48  3577.480      Joseph R. Palmore   \n",
       "\n",
       "             speaker_name_y speaker_roles_1_appointing_president_y  \\\n",
       "0      John G. Roberts, Jr.                         George W. Bush   \n",
       "1           Clarence Thomas                      George H. W. Bush   \n",
       "2           Clarence Thomas                      George H. W. Bush   \n",
       "3           Sonia Sotomayor                                    NaN   \n",
       "4           Sonia Sotomayor                                    NaN   \n",
       "...                     ...                                    ...   \n",
       "13943     Stephen G. Breyer                           Bill Clinton   \n",
       "13944    Brett M. Kavanaugh                        Donald J. Trump   \n",
       "13945    Brett M. Kavanaugh                        Donald J. Trump   \n",
       "13946    Brett M. Kavanaugh                        Donald J. Trump   \n",
       "13947  John G. Roberts, Jr.                         George W. Bush   \n",
       "\n",
       "                            speaker_roles_1_role_title_y  \\\n",
       "0                     Chief Justice of the United States   \n",
       "1      Associate Justice of the Supreme Court of the ...   \n",
       "2      Associate Justice of the Supreme Court of the ...   \n",
       "3      Associate Justice of the Supreme Court of the ...   \n",
       "4      Associate Justice of the Supreme Court of the ...   \n",
       "...                                                  ...   \n",
       "13943  Associate Justice of the Supreme Court of the ...   \n",
       "13944  Associate Justice of the Supreme Court of the ...   \n",
       "13945  Associate Justice of the Supreme Court of the ...   \n",
       "13946  Associate Justice of the Supreme Court of the ...   \n",
       "13947                 Chief Justice of the United States   \n",
       "\n",
       "       speaker_roles_1_date_start_y  speaker_roles_1_date_end_y  \\\n",
       "0                      1.127970e+09                         0.0   \n",
       "1                      6.881940e+08                         0.0   \n",
       "2                      6.881940e+08                         0.0   \n",
       "3                      1.249708e+09                         0.0   \n",
       "4                      1.249708e+09                         0.0   \n",
       "...                             ...                         ...   \n",
       "13943                  7.758900e+08                         0.0   \n",
       "13944                  1.538802e+09                         0.0   \n",
       "13945                  1.538802e+09                         0.0   \n",
       "13946                  1.538802e+09                         0.0   \n",
       "13947                  1.127970e+09                         0.0   \n",
       "\n",
       "                                             agent_state  \\\n",
       "0      Not entirely, Mr. Chief Justice, for this reas...   \n",
       "1      Well, Justice Thomas, I think it speaks precis...   \n",
       "2      Only in the sense that result, obviously, conn...   \n",
       "3      Well, again, it depends what you're talking ab...   \n",
       "4      Yeah. I mean, I think there may be an argument...   \n",
       "...                                                  ...   \n",
       "13943  Because there was presumed under the no furthe...   \n",
       "13944  -- and that that interest was fully protected,...   \n",
       "13945  Yeah. Well, we articulated that in our brief a...   \n",
       "13946  No, Your Honor, because the PBGC guarantees be...   \n",
       "13947  The Department of Labor has the legal authorit...   \n",
       "\n",
       "                                            judge_action  action_duration  \\\n",
       "0      Now you -- you talk about the concern being th...           29.025   \n",
       "1      So is there a causation standard implicit in y...           81.455   \n",
       "2      And how much less opportunity? The Ninth Circu...           42.850   \n",
       "3      Could I go back to the two categories?        ...           33.830   \n",
       "4      Could I go back to the two categories?        ...           43.960   \n",
       "...                                                  ...              ...   \n",
       "13943  It means sometimes you presume that there is i...            4.960   \n",
       "13944  Can I go back to the particulars of your theor...           32.400   \n",
       "13945  Wouldn't -- wouldn't that theory, taken to its...           22.200   \n",
       "13946  Anyone whose benefits are under that limit, th...            4.440   \n",
       "13947  Thank you, counsel. Three minutes, Mr. Stris. ...           35.720   \n",
       "\n",
       "       agent_duration                               judge_action_cleaned  \\\n",
       "0              25.265  ['talk', 'concern', 'analysis', 'would', 'driv...   \n",
       "1               7.140  ['causation', 'standard', 'implicit', 'neutral...   \n",
       "2              19.150  ['much', 'less', 'opportunity', 'ninth', 'circ...   \n",
       "3               3.000         ['could', 'go', 'back', 'two', 'category']   \n",
       "4               3.000         ['could', 'go', 'back', 'two', 'category']   \n",
       "...               ...                                                ...   \n",
       "13943           4.920  ['mean', 'sometimes', 'presume', 'injury', 'tr...   \n",
       "13944           3.680  ['go', 'back', 'particular', 'theory', 'would'...   \n",
       "13945           9.240  ['theory', 'take', 'logical', 'conclusion', 'm...   \n",
       "13946           4.480  ['anyone', 'whose', 'benefit', 'limit', 'never...   \n",
       "13947           4.000  ['thank', 'counsel', 'three', 'minute', 'mr', ...   \n",
       "\n",
       "                                     agent_state_cleaned  \n",
       "0      ['entirely', 'mr', 'chief', 'justice', 'reason...  \n",
       "1      ['well', 'justice', 'thomas', 'think', 'speak'...  \n",
       "2      ['sense', 'result', 'obviously', 'connote', 'c...  \n",
       "3      ['well', 'depend', 'talk', 'justice', 'thomas'...  \n",
       "4      ['yeah', 'mean', 'think', 'may', 'argument', '...  \n",
       "...                                                  ...  \n",
       "13943  ['presume', 'inquiry', 'rule', 'presumed', 'in...  \n",
       "13944  ['interest', 'fully', 'protect', 'plaintiff', ...  \n",
       "13945  ['yeah', 'well', 'articulate', 'brief', 'court...  \n",
       "13946  ['honor', 'pbgc', 'guarantee', 'benefit', 'cer...  \n",
       "13947  ['department', 'labor', 'legal', 'authority', ...  \n",
       "\n",
       "[13948 rows x 16 columns]"
      ]
     },
     "execution_count": 27,
     "metadata": {},
     "output_type": "execute_result"
    }
   ],
   "source": [
    "df = pd.read_csv('action_state_text_v4.csv', index_col=0)\n",
    "df"
   ]
  },
  {
   "cell_type": "code",
   "execution_count": 30,
   "metadata": {},
   "outputs": [
    {
     "name": "stderr",
     "output_type": "stream",
     "text": [
      "Setting `pad_token_id` to `eos_token_id`:50256 for open-end generation.\n",
      "Setting `pad_token_id` to `eos_token_id`:50256 for open-end generation.\n",
      "Setting `pad_token_id` to `eos_token_id`:50256 for open-end generation.\n",
      "Setting `pad_token_id` to `eos_token_id`:50256 for open-end generation.\n",
      "Setting `pad_token_id` to `eos_token_id`:50256 for open-end generation.\n",
      "Longest conversation length: 941 is bigger than 0.9 * max_length: 1000. You might consider trimming the early phase of the conversation\n",
      "Setting `pad_token_id` to `eos_token_id`:50256 for open-end generation.\n",
      "Longest conversation length: 1047 is bigger than 0.9 * max_length: 1000. You might consider trimming the early phase of the conversation\n",
      "Setting `pad_token_id` to `eos_token_id`:50256 for open-end generation.\n",
      "Longest conversation length: 984 is bigger than 0.9 * max_length: 1000. You might consider trimming the early phase of the conversation\n",
      "Setting `pad_token_id` to `eos_token_id`:50256 for open-end generation.\n",
      "Setting `pad_token_id` to `eos_token_id`:50256 for open-end generation.\n",
      "Longest conversation length: 947 is bigger than 0.9 * max_length: 1000. You might consider trimming the early phase of the conversation\n",
      "Setting `pad_token_id` to `eos_token_id`:50256 for open-end generation.\n"
     ]
    }
   ],
   "source": [
    "conv_start = df['agent_state'][0]\n",
    "conv = Conversation(conv_start)\n",
    "conversational_pipeline([conv])\n",
    "\n",
    "for i in range(1, 10):\n",
    "    conv_next = df['agent_state'][i]\n",
    "    conv.add_user_input(conv_next)\n",
    "    conversational_pipeline([conv])"
   ]
  },
  {
   "cell_type": "code",
   "execution_count": 32,
   "metadata": {
    "scrolled": true
   },
   "outputs": [
    {
     "data": {
      "text/plain": [
       "Conversation id: ceab8f80-a393-4b9d-807f-8bee3cbbac44 \n",
       "user >> Not entirely, Mr. Chief Justice, for this reason: It does involve differential systems, unequal access, but regardless of whether or not that unequal access is racially motivated, you would not have to prove that the intent behind the differential access provided to minorities was to suppress or hinder the minority vote. And that's a key distinction from Mobile versus Bolden.                             \n",
       "bot >> I'm not sure what you're getting at. \n",
       "user >> Well, Justice Thomas, I think it speaks precisely in those terms. It says that a voting practice cannot result in minorities having less opportunity than non-minorities. It says the system needs to be equally open. So what it's saying is as long as everyone has the same opportunity and the system is equally open, Section 2 does not condemn it. The Respondents, however, would say that even if minorities are given precisely the same opportunity, unless they utilize it proportionally, then somehow that comes within the constraints of Section 2. But, again, there's nothing in the text of Section 2 which says you need to expand time, place, and manner restrictions to enhance proportionality or maximization. Indeed, if that had been the rule, in 1982, virtually every time, place, and manner restriction in the country would have been illegal overnight because there was severe disproportionate utilization and socioeconomic disparities were ubiquitous. And surely, if Congress had intended that kind of sea change, it would have given some hint of it in the legislative history. So this rule is both contrary to the text of Section 2 and any other formulation of what Congress was intending.                          \n",
       "bot >>  \n",
       "user >> Only in the sense that result, obviously, connotes causation, right? And the question is: what is the prohibited -- what can you not cause? What is the prohibited result? And the plain language of Section 2 tells you what the system can't result in is providing less opportunity to minorities. It doesn't say it can't result in providing them the same opportunity, but, for whatever reason, they don't utilize it to the same extent. So there is a causation question, but the question is what can the state not cause. We say it can't cause less opportunity. The other side says it can't do anything that results in disproportionate outcomes.                            \n",
       "bot >>  \n",
       "user >> Well, again, it depends what you're talking about, Justice Thomas. If you're talking about disproportionate outcomes, we don't think that's the issue. So we don't think a severely disproportionate outcome jeopardizes Section 2 viability, nor does a minor disproportionate outcome. The question is not the outcome. The question is the opportunity and if the state has provided everyone the same opportunity. Now I will agree with the attorney general, however, if you get past that, then, obviously, there needs to be something substantial for two reasons. No one requires perfect, of course --                          \n",
       "bot >>  \n",
       "user >> Yeah. I mean, I think there may be an argument that he is. I think that's a different case. It would depend on the actual facts of the job duties. I -- I think, in this case, whether it was deputy U.S. Marshal, U.S. Marshal, or when he was a deputy sheriff, pages JA 176 and 177 show that Mr. Dawson had the same job duties. The State's never contested that. And, indeed, as a U.S. Marshal, Mr. Chief Justice, Mr. Dawson testified at those pages that there were two critical similarities among others. One was that he was entrusted to enforce West Virginia law as a U.S. Marshal. And the second was that, for fugitive task forces, he could deputize the very same state troopers and deputy sheriffs who are exempted under the West Virginia plan. So --                        \n",
       "bot >>  \n",
       "user >> Yes. Well, two points. One is, of course, there's nothing in the language of Section 2 which allows you to justify a discriminatory result based on the strength of --                             \n",
       "bot >>  \n",
       "user >> I -- I think what they mean is what the Court meant in Crawford, which is what we all understand to be the usual burdens of voting. You make a very good point about 1982. We know that needs to be the benchmark for the usual burdens because, otherwise, that meant Congress in 1982 was invalidating virtually every time, place, and manner restriction. So that needs to be, if you will, the safe harbor. The only point we're making is Section 2 did not immunize minorities from the usual burdens of voting. It didn't say, you -- you don't have to show up at the right precinct and those sorts of things. And there's nothing in the language of Section 2 which somehow exempts them from doing so. So, as long as it's roughly commensurate with the normal Election Day system that exists, that would constitute the usual burden of voting.                           \n",
       "bot >>  \n",
       "user >> Your Honor, I would love it if the state could justify its systems if you're going to impose on them some kind of proportionality mandate. Our basic point is it's not a proportionality mandate and their justification should not be an affirmative defense to that. If you want to read that into the statute, that would make it better than a straight proportionality mandate. I will emphasize again that even under Houston Lawyers' Association, which the Solicitor General puts forward, the justification is merely one factor out of the nine to be considered. So that means you're now into this amorphous nine Senate report factors where every district court and appellate court can do its own kind of balancing test, which will lead to all sorts of ad hoc results and not give you the kind of clarity and guidance that state legislatures need prior to Election Day.                           \n",
       "bot >>  \n",
       "user >> But you have some parts of it wrong. So two things. Number one, that was a study of a single river and it was a study of all barriers on that river, not state culverts.                             \n",
       "bot >>  \n",
       "user >> In two places. One is we -- it's not a denial at a time, place, and manner, so it needs --                             \n",
       "bot >>  "
      ]
     },
     "execution_count": 32,
     "metadata": {},
     "output_type": "execute_result"
    }
   ],
   "source": [
    "conv"
   ]
  },
  {
   "cell_type": "markdown",
   "metadata": {},
   "source": [
    "## GPT2 text generation"
   ]
  },
  {
   "cell_type": "code",
   "execution_count": null,
   "metadata": {},
   "outputs": [],
   "source": [
    "## Tutorial:\n",
    "## https://towardsdatascience.com/text-generation-with-python-and-gpt-2-1fecbff1635b"
   ]
  },
  {
   "cell_type": "code",
   "execution_count": 8,
   "metadata": {},
   "outputs": [
    {
     "data": {
      "application/vnd.jupyter.widget-view+json": {
       "model_id": "ea02b399a19e4e4e806d5ec38efcf795",
       "version_major": 2,
       "version_minor": 0
      },
      "text/plain": [
       "HBox(children=(FloatProgress(value=0.0, description='Downloading', max=1042301.0, style=ProgressStyle(descript…"
      ]
     },
     "metadata": {},
     "output_type": "display_data"
    },
    {
     "name": "stdout",
     "output_type": "stream",
     "text": [
      "\n"
     ]
    },
    {
     "data": {
      "application/vnd.jupyter.widget-view+json": {
       "model_id": "f0a283706eab409cb5bf18667fc48cf9",
       "version_major": 2,
       "version_minor": 0
      },
      "text/plain": [
       "HBox(children=(FloatProgress(value=0.0, description='Downloading', max=456318.0, style=ProgressStyle(descripti…"
      ]
     },
     "metadata": {},
     "output_type": "display_data"
    },
    {
     "name": "stdout",
     "output_type": "stream",
     "text": [
      "\n"
     ]
    },
    {
     "data": {
      "application/vnd.jupyter.widget-view+json": {
       "model_id": "5304676940294872b6eb8e539a85a609",
       "version_major": 2,
       "version_minor": 0
      },
      "text/plain": [
       "HBox(children=(FloatProgress(value=0.0, description='Downloading', max=665.0, style=ProgressStyle(description_…"
      ]
     },
     "metadata": {},
     "output_type": "display_data"
    },
    {
     "name": "stdout",
     "output_type": "stream",
     "text": [
      "\n"
     ]
    },
    {
     "data": {
      "application/vnd.jupyter.widget-view+json": {
       "model_id": "98e51ff63b134a44860f5291e677b729",
       "version_major": 2,
       "version_minor": 0
      },
      "text/plain": [
       "HBox(children=(FloatProgress(value=0.0, description='Downloading', max=548118077.0, style=ProgressStyle(descri…"
      ]
     },
     "metadata": {},
     "output_type": "display_data"
    },
    {
     "name": "stdout",
     "output_type": "stream",
     "text": [
      "\n"
     ]
    }
   ],
   "source": [
    "import torch\n",
    "from transformers import GPT2LMHeadModel, GPT2Tokenizer\n",
    "\n",
    "# initialize tokenizer and model from pretrained GPT2 model\n",
    "tokenizer = GPT2Tokenizer.from_pretrained('gpt2')\n",
    "model = GPT2LMHeadModel.from_pretrained('gpt2')"
   ]
  },
  {
   "cell_type": "code",
   "execution_count": 25,
   "metadata": {},
   "outputs": [
    {
     "name": "stderr",
     "output_type": "stream",
     "text": [
      "Setting `pad_token_id` to `eos_token_id`:50256 for open-end generation.\n"
     ]
    },
    {
     "name": "stdout",
     "output_type": "stream",
     "text": [
      "Rabbi L'Souza Loma, one of the leaders of the Reform Movement, said the Jewish people are not prepared to commit any offense against the Jews of the Orthodox Church. He said the problem with what can be said is\n"
     ]
    }
   ],
   "source": [
    "inputs = tokenizer.encode(['Sure. First of all, under Rings v. Bird, the simple conferral of a cause of a cause of action is not enough to confer standing.'], return_tensors='pt')\n",
    "outputs = model.generate(inputs, max_length=50, do_sample=True)\n",
    "text = tokenizer.decode(outputs[0], skip_special_tokens=True)\n",
    "print(text)"
   ]
  },
  {
   "cell_type": "code",
   "execution_count": null,
   "metadata": {},
   "outputs": [],
   "source": []
  }
 ],
 "metadata": {
  "kernelspec": {
   "display_name": "anly580",
   "language": "python",
   "name": "anly580"
  },
  "language_info": {
   "codemirror_mode": {
    "name": "ipython",
    "version": 3
   },
   "file_extension": ".py",
   "mimetype": "text/x-python",
   "name": "python",
   "nbconvert_exporter": "python",
   "pygments_lexer": "ipython3",
   "version": "3.8.5"
  }
 },
 "nbformat": 4,
 "nbformat_minor": 2
}
